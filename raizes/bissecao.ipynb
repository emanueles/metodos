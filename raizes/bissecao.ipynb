{
 "cells": [
  {
   "cell_type": "markdown",
   "metadata": {},
   "source": [
    "# Método da Bisseção\n",
    "## Objetivo\n",
    "O objetivo desse notebook é implementar o método da Bisseção em Python e aplicá-lo para achar as raízes de equações não lineares.\n",
    "\n",
    "## Implementação\n",
    "Nós iremos implementar o algoritmo parte por parte, de acordo com a estratégia mostrada em sala. As instruções estão nos comentários na função abaixo. Você só precisa editar onde estiver indicado. \n",
    "\n",
    "Para executar uma célula, selecione a célula e pressione ```Ctrl + Enter```. Após implementar a função ```bissecao``` você deve executar cada uma das células, preferencialmente na ordem em que elas aparecem.\n"
   ]
  },
  {
   "cell_type": "code",
   "execution_count": null,
   "metadata": {
    "collapsed": true
   },
   "outputs": [],
   "source": [
    "def bissecao(f, a, b, epsilon, maxIter = 50):\n",
    "    \"\"\"Executa o método da bisseção para achar o zero de f no intervalo \n",
    "       [a,b] com precisão epsilon. O método executa no máximo maxIter\n",
    "       iterações.\n",
    "       Retorna uma tupla (houveErro, raiz), onde houveErro é booleano.\n",
    "    \"\"\"\n",
    "    ## Inicializar as variáveis Fa e Fb\n",
    "    #Fa = \n",
    "    #Fb = \n",
    "    \n",
    "    ## Teste para saber se a função muda de sinal. Se não mudar, mostrar\n",
    "    ## mensagem de erro\n",
    "    # if ...\n",
    "        ## Mostrar mensagem\n",
    "        print(\"Erro! A função não muda de sinal.\")\n",
    "        return (True, None)\n",
    "    \n",
    "    ## Mostra na tela cabeçalho da tabela\n",
    "    print(\"k\\t  a\\t\\t  fa\\t\\t  b\\t\\t  fb\\t\\t  x\\t\\t  fx\\t\\tintervX\")\n",
    "    \n",
    "    ## Inicializa tamanho do intervalo intervX usando a função abs, x e Fx\n",
    "    # intervX = \n",
    "    # x = \n",
    "    # Fx =\n",
    "    \n",
    "    ## Mostra dados de inicialização\n",
    "    print(\"-\\t%e\\t%e\\t%e\\t%e\\t%e\\t%e\\t%e\" % (a, Fa, b, Fb, x, Fx, intervX))\n",
    "    \n",
    "    ## Teste se intervalo já é do tamanho da precisão e retorna a raiz sem erros\n",
    "    # escreva o seu código aqui \n",
    "    \n",
    "    \n",
    "    ## Iniciliza o k\n",
    "    # escreva o seu código aqui\n",
    "    \n",
    "    ## laço\n",
    "    while k <= maxIter:\n",
    "        ## Testes para saber se a raiz está entre a e x ou entre x e b e atualiza\n",
    "        ## as variáveis apropriadamente\n",
    "        \n",
    "        # escreva o seu código aqui\n",
    "        \n",
    "        ## Atualiza intervX, x, e Fx\n",
    "        \n",
    "        \n",
    "        ## Mostra valores na tela\n",
    "        print(\"%d\\t%e\\t%e\\t%e\\t%e\\t%e\\t%e\\t%e\"%(k, a, Fa, b, Fb, x, Fx, intervX))\n",
    "        \n",
    "        ## Teste do critério de parada (usando apenas o tamanho do intervalo)\n",
    "        \n",
    "        # escreva o seu código aqui\n",
    "        \n",
    "        ## Atualiza o k\n",
    "        k = k+1\n",
    "    ## Se chegar aqui é porque o número máximo de iterações foi atingido\n",
    "    ## Mostrar uma mensagem de erro e retorna que houve erro e a última raiz encontrada\n",
    "    print(\"ERRO! número máximo de iterações atingido.\")\n",
    "    return (True, x)"
   ]
  },
  {
   "cell_type": "markdown",
   "metadata": {},
   "source": [
    "Agora precisamos testar se a função está implementada corretamente. Iremos usar o exemplo mostrado em sala: f(x) = x^3-9x+3. Inicialmente vamos definir a função f:"
   ]
  },
  {
   "cell_type": "code",
   "execution_count": 1,
   "metadata": {
    "collapsed": true
   },
   "outputs": [],
   "source": [
    "def f(x):\n",
    "    return x**3 - 9*x + 3"
   ]
  },
  {
   "cell_type": "markdown",
   "metadata": {},
   "source": [
    "Você pode testar a função usando print(f(0))"
   ]
  },
  {
   "cell_type": "code",
   "execution_count": 2,
   "metadata": {},
   "outputs": [
    {
     "name": "stdout",
     "output_type": "stream",
     "text": [
      "3\n"
     ]
    }
   ],
   "source": [
    "print(f(0))"
   ]
  },
  {
   "cell_type": "markdown",
   "metadata": {},
   "source": [
    "Depois iremos definir os parâmetros que serão passados para a função bissecao:"
   ]
  },
  {
   "cell_type": "code",
   "execution_count": null,
   "metadata": {
    "collapsed": true
   },
   "outputs": [],
   "source": [
    "a = 0\n",
    "b = 1\n",
    "epsilon = 0.001\n",
    "maxIter = 20"
   ]
  },
  {
   "cell_type": "markdown",
   "metadata": {},
   "source": [
    "Agora podemos chamar a função bissecao com os parâmetros definidos. Lembre-se de que a função retorna uma tupla:"
   ]
  },
  {
   "cell_type": "code",
   "execution_count": null,
   "metadata": {
    "collapsed": true
   },
   "outputs": [],
   "source": [
    "(houveErro, raiz) = bissecao(f, a, b, epsilon, maxIter)"
   ]
  },
  {
   "cell_type": "markdown",
   "metadata": {},
   "source": [
    "Ao executar a célula acima, você verá a tabela de resultados como vista em sala. Agora precisamos testar o valor de houveErro e mostrar a raiz se não houver erro:"
   ]
  },
  {
   "cell_type": "code",
   "execution_count": null,
   "metadata": {
    "collapsed": true
   },
   "outputs": [],
   "source": [
    "if houveErro:\n",
    "    print(\"O Método da Bisseção retornou um erro.\")\n",
    "if raiz is not None:\n",
    "    print(\"Raiz encontrada: %s\" % raiz)"
   ]
  },
  {
   "cell_type": "markdown",
   "metadata": {},
   "source": [
    "Se tudo deu certo, ao executar a célula acima, você deverá ver:\n",
    "\n",
    "```Raiz encontrada: 0.33740234375```"
   ]
  },
  {
   "cell_type": "markdown",
   "metadata": {},
   "source": [
    "## Exercício\n",
    "\n",
    "Modifique os valores de a e b na célula em que eles foram definidos para achar as outras duas raízes da função. Após editar a célula, execute o notebook novamente."
   ]
  }
 ],
 "metadata": {
  "kernelspec": {
   "display_name": "Python 3",
   "language": "python",
   "name": "python3"
  },
  "language_info": {
   "codemirror_mode": {
    "name": "ipython",
    "version": 3
   },
   "file_extension": ".py",
   "mimetype": "text/x-python",
   "name": "python",
   "nbconvert_exporter": "python",
   "pygments_lexer": "ipython3",
   "version": "3.6.2"
  }
 },
 "nbformat": 4,
 "nbformat_minor": 2
}
