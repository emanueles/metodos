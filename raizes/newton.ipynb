{
 "cells": [
  {
   "cell_type": "markdown",
   "metadata": {},
   "source": [
    "# Método de Newton-Raphson\n",
    "## Objetivo\n",
    "O objetivo desse notebook é implementar o método de Newton-Raphson em Python e aplicá-lo para achar as raízes de equações não lineares.\n",
    "\n",
    "## Implementação\n",
    "Nós iremos implementar o algoritmo parte por parte, de acordo com a estratégia mostrada em sala. As instruções estão nos comentários na função abaixo. Você só precisa editar onde estiver indicado. \n",
    "\n",
    "Para executar uma célula, selecione a célula e pressione ```Ctrl + Enter```. Após implementar a função ```false_pos``` você deve executar cada uma das células, preferencialmente na ordem em que elas aparecem.\n"
   ]
  },
  {
   "cell_type": "code",
   "execution_count": null,
   "metadata": {
    "collapsed": true
   },
   "outputs": [],
   "source": [
    "def newton(f, flin, x0, epsilon, iterMax=50):\n",
    "    \"\"\"Executa o método de Newton-Raphson para achar o zero de f  \n",
    "       a partir da derivada de f flin, aproximação inicial x0 \n",
    "       e tolerância epsilon.\n",
    "       Retorna uma tupla (houveErro, raiz), onde houveErro é booleano.\n",
    "    \"\"\"\n",
    "    ## Teste se x0 já é logo a raiz\n",
    "    \n",
    "    ## Escreva o cabeçalho da tabela e o valor da aproximação inicial\n",
    "    \n",
    "    ## Inicie as iterações (pode ser um for)\n",
    "    \n",
    "    ## Em cada iteração: \n",
    "    ##    Calcule x1 a partir de x0\n",
    "    \n",
    "    ##    Escreva os valores de k, x1, f(x1)\n",
    "    \n",
    "    ##    Teste para o critério de parada usando módulo da função\n",
    "    \n",
    "    ##    Atualize o valor de x0\n",
    "    \n",
    "    ## Se atingir o número máximo de iterações mostra mensagem de erro e retorna\n",
    "    ## a última raiz encontrada"
   ]
  },
  {
   "cell_type": "markdown",
   "metadata": {},
   "source": [
    "Agora precisamos testar se a função está implementada corretamente. Iremos usar o exemplo mostrado em sala: f(x) = x^3-9x+3. Inicialmente vamos definir a função f:"
   ]
  },
  {
   "cell_type": "code",
   "execution_count": 1,
   "metadata": {
    "collapsed": true
   },
   "outputs": [],
   "source": [
    "def f(x):\n",
    "    return x**3 - 9*x + 3"
   ]
  },
  {
   "cell_type": "markdown",
   "metadata": {},
   "source": [
    "Na célula abaixo, defina ```flin```:"
   ]
  },
  {
   "cell_type": "code",
   "execution_count": null,
   "metadata": {
    "collapsed": true
   },
   "outputs": [],
   "source": [
    "## Definição da derivada de f\n",
    "# escreva o código aqui\n"
   ]
  },
  {
   "cell_type": "markdown",
   "metadata": {},
   "source": [
    "Não se esqueça de executar as células de código acima"
   ]
  },
  {
   "cell_type": "markdown",
   "metadata": {},
   "source": [
    "Depois iremos definir os parâmetros que serão passados para a função ```newton```:"
   ]
  },
  {
   "cell_type": "code",
   "execution_count": null,
   "metadata": {
    "collapsed": true
   },
   "outputs": [],
   "source": [
    "## Inicialização dos parâmetros\n",
    "# defina x0 = 0.5, epsilon = 0.0001 e maxIter=50\n"
   ]
  },
  {
   "cell_type": "markdown",
   "metadata": {},
   "source": [
    "Agora podemos chamar a função ```newton``` com os parâmetros definidos. Lembre-se de que a função retorna uma tupla:"
   ]
  },
  {
   "cell_type": "code",
   "execution_count": null,
   "metadata": {
    "collapsed": true
   },
   "outputs": [],
   "source": [
    "## Chamando a função newton com os parâmetros definidos nas células acima\n",
    "#(houveErro, raiz) = ..."
   ]
  },
  {
   "cell_type": "markdown",
   "metadata": {},
   "source": [
    "Ao executar a célula acima, você verá a tabela de resultados como vista em sala. Agora precisamos testar o valor de houveErro e mostrar a raiz se não houver erro:"
   ]
  },
  {
   "cell_type": "code",
   "execution_count": null,
   "metadata": {
    "collapsed": true
   },
   "outputs": [],
   "source": [
    "#if houveErro:\n",
    "    #print...\n",
    "#if raiz is not None:\n",
    "    #print..."
   ]
  },
  {
   "cell_type": "markdown",
   "metadata": {},
   "source": [
    "Se tudo deu certo, ao executar a célula acima, você deverá ver:\n",
    "\n",
    "```Raiz encontrada: 0.33760683760683763```"
   ]
  },
  {
   "cell_type": "markdown",
   "metadata": {},
   "source": [
    "## Exercício\n",
    "\n",
    "Use a sua implementação do Método de Newton para encontrar a raiz da equação 4cos(x) - e^(2x)=0, com x0 = -2.5 e epsilon = 0.00001. O método convergiu? Qual a raiz encontrada e quantas iterações foram executadas?\n",
    "\n",
    "\n",
    "> Dicas: Não se esqueça de importar as funções da biblioteca math:\n",
    ">\n",
    "> \t   from math import exp, cos, sin\n",
    "> \t   #depois pode usá-las normalmente cos(x), exp(x), sin(x)"
   ]
  },
  {
   "cell_type": "code",
   "execution_count": null,
   "metadata": {
    "collapsed": true
   },
   "outputs": [],
   "source": [
    "## importe as funções necessárias da biblioteca math\n",
    "\n",
    "## defina as funções f1, e f1lin\n",
    "\n",
    "## inicialize x0, epsilon e maxIter \n",
    "\n",
    "## chame a função newton\n",
    "\n",
    "## teste se houve erro e mostra a raiz\n"
   ]
  }
 ],
 "metadata": {
  "kernelspec": {
   "display_name": "Python 3",
   "language": "python",
   "name": "python3"
  },
  "language_info": {
   "codemirror_mode": {
    "name": "ipython",
    "version": 3
   },
   "file_extension": ".py",
   "mimetype": "text/x-python",
   "name": "python",
   "nbconvert_exporter": "python",
   "pygments_lexer": "ipython3",
   "version": "3.5.1"
  }
 },
 "nbformat": 4,
 "nbformat_minor": 2
}
