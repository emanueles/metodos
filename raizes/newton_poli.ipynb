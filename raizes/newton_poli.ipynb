{
 "cells": [
  {
   "cell_type": "markdown",
   "metadata": {},
   "source": [
    "# Método de Newton-Raphson para Polinômios\n",
    "## Objetivo\n",
    "O objetivo desse notebook é implementar o método de Newton-Raphson para Polinômios em Python e aplicá-lo para achar as raízes reais de polinômios.\n",
    "\n",
    "## Implementação\n",
    "Nós iremos implementar o algoritmo parte por parte, de acordo com a estratégia mostrada em sala. As instruções estão nos comentários na função abaixo. Você só precisa editar onde estiver indicado. \n",
    "\n",
    "Para executar uma célula, selecione a célula e pressione ```Ctrl + Enter```. Após implementar a função ```false_pos``` você deve executar cada uma das células, preferencialmente na ordem em que elas aparecem.\n"
   ]
  },
  {
   "cell_type": "code",
   "execution_count": null,
   "metadata": {
    "collapsed": true
   },
   "outputs": [],
   "source": [
    "def newton_poli(a, x, epsilon, iterMax=50):\n",
    "    \"\"\"Executa o método de Newton-Raphson para polinômios para achar o zero  \n",
    "       do polinômio definido como coeficientes a, onde a = [a0, a1, ..., an].\n",
    "       São necessárias a aproximação inicial x e a tolerância epsilon. \n",
    "       O método executa no máximo iterMax iterações.\n",
    "       Retorna uma tupla (houveErro, raiz), onde houveErro é booleano.\n",
    "    \"\"\"\n",
    "    ## O grau do polinômio será o número de elementos de a -1\n",
    "    n = len(a)-1\n",
    "    \n",
    "    ## Mostra na tela cabeçalho da tabela\n",
    "    \n",
    "    ## Inicia as iterações em k=0:\n",
    "    \n",
    "    #for...\n",
    "    \n",
    "        ## Inicializa as variáveis b e c:\n",
    "        #b=\n",
    "        #c=\n",
    "        \n",
    "        ## Construa um loop para atualizar b e c, variando i de n-1 até 1.\n",
    "        #for...\n",
    "        \n",
    "        ## Atualize o valor final de b usando o a[0] não incluso no loop acima.\n",
    "        #b=\n",
    "        \n",
    "        ## mostra os valores calculados na tabela   \n",
    "        \n",
    "        ## Teste para saber se x é raiz\n",
    "        \n",
    "        ## Atualiza o valor de x pela função de iteração x = x - p(x)/p'(x)\n",
    "    \n",
    "    \n",
    "    ## Se atingir o número máximo de iterações mostra mensagem de erro e retorna\n",
    "    ## a última raiz encontrada"
   ]
  },
  {
   "cell_type": "markdown",
   "metadata": {},
   "source": [
    "Agora precisamos testar se a função está implementada corretamente. Iremos usar o seguinte polinômio: p(x) = x^3 + 2x^2 - x - 2. Usaremos x0 = 2, epsilon=0.001 e iterMax=20. Na célula abaixo inicialize as variáveis:"
   ]
  },
  {
   "cell_type": "code",
   "execution_count": null,
   "metadata": {
    "collapsed": true
   },
   "outputs": [],
   "source": [
    "## Observe que os coeficientes no polinômio\n",
    "## estão definidos do maior para o menor: a3, a2, a1 e a0.\n",
    "## Na lista abaixo eles precisam ser passados na ordem: a0, a1, a2 e a3.\n",
    "#a = ...\n",
    "#x0= \n",
    "#epsilon=\n",
    "#iterMax="
   ]
  },
  {
   "cell_type": "markdown",
   "metadata": {},
   "source": [
    "Não se esqueça de executar as células de código acima"
   ]
  },
  {
   "cell_type": "markdown",
   "metadata": {},
   "source": [
    "Agora podemos chamar a função ```newton_poli``` com os parâmetros definidos. Lembre-se de que a função retorna uma tupla:"
   ]
  },
  {
   "cell_type": "code",
   "execution_count": null,
   "metadata": {
    "collapsed": true
   },
   "outputs": [],
   "source": [
    "## Chamando a função newton_poli com os parâmetros definidos nas células acima\n",
    "#(houveErro, raiz) = ..."
   ]
  },
  {
   "cell_type": "markdown",
   "metadata": {},
   "source": [
    "Confira a saída do seu programa com a saída abaixo:\n",
    "```\n",
    "k\t     x\t\t    p(x)\n",
    "0\t2.000000000\t1.200000e+01\n",
    "1\t1.368421053\t2.939204e+00\n",
    "2\t1.077163125\t4.932089e-01\n",
    "3\t1.004520163\t2.722323e-02\n",
    "4\t1.000016930\t1.015792e-04\n",
    "\n",
    "```\n",
    "Agora precisamos testar o valor de houveErro e mostrar a raiz se não houver erro:"
   ]
  },
  {
   "cell_type": "code",
   "execution_count": null,
   "metadata": {
    "collapsed": true
   },
   "outputs": [],
   "source": [
    "#if houveErro:\n",
    "    #print...\n",
    "#if raiz is not None:\n",
    "    #print..."
   ]
  },
  {
   "cell_type": "markdown",
   "metadata": {},
   "source": [
    "Se tudo deu certo, ao executar a célula acima, você deverá ver:\n",
    "\n",
    "```Raiz encontrada: 1.0000169296346983```"
   ]
  },
  {
   "cell_type": "markdown",
   "metadata": {},
   "source": [
    "## Comparação do tempo de execução\n",
    "Vamos comparar o tempo de execução entre o Método de Newton normal e o método de Newton para polinômios para ver se conseguimos perceber a diferença.\n",
    "\n",
    "Na célula abaixo, copie o código da função newton conforme implementada no outro notebook jupyter."
   ]
  },
  {
   "cell_type": "code",
   "execution_count": null,
   "metadata": {
    "collapsed": true
   },
   "outputs": [],
   "source": [
    "## cole aqui o código da função newton\n"
   ]
  },
  {
   "cell_type": "markdown",
   "metadata": {},
   "source": [
    "Na célula abaixo, defina a função p(x) como sendo o polinômio p(x) = 3x^5 - 2x^4 + 5x^3 + 7x^2 - 3x + 1 e defina plin(x) como sendo a derivada do polinômio. Essas funções serão necessárias para o método de Newton."
   ]
  },
  {
   "cell_type": "code",
   "execution_count": null,
   "metadata": {
    "collapsed": true
   },
   "outputs": [],
   "source": [
    "#defina p(x) e plin(x)\n"
   ]
  },
  {
   "cell_type": "markdown",
   "metadata": {},
   "source": [
    "Na célula abaixo, inicialize a lista a de coeficientes para newton_poli e os outros parâmetros comuns aos dois métodos: x0 = -0.75, epsilon=0.000000000001, iterMax = 100."
   ]
  },
  {
   "cell_type": "code",
   "execution_count": null,
   "metadata": {
    "collapsed": true
   },
   "outputs": [],
   "source": [
    "##inicialize a lista a, x0, epsilon e iterMax"
   ]
  },
  {
   "cell_type": "markdown",
   "metadata": {},
   "source": [
    "Na célula abaixo está o código usado para medir o tempo das funções em Python 3, usando o clock da máquina. Após executar as células acima, execute a célula abaixo para ver o resultado:"
   ]
  },
  {
   "cell_type": "code",
   "execution_count": null,
   "metadata": {
    "collapsed": true
   },
   "outputs": [],
   "source": [
    "import time\n",
    "\n",
    "## Medimos o tempo do clock imediatamente antes e depois de executar a função\n",
    "## O tempo levado é a diferença entre essas duas medidas.\n",
    "## O resultado é em fração de segundos. Nós multiplicamos a diferença por 1000 \n",
    "## para obtermos o resultado em milissegundos.\n",
    "print(\"Método de Newton:\")\n",
    "tni = time.perf_counter()\n",
    "(houveErro1, raiz1) = newton(p,plin,x0,epsilon, maxIter)\n",
    "tnf = time.perf_counter()\n",
    "if not houveErro1:\n",
    "    print(\"Raiz encontrada: %s\"%raiz1)\n",
    "else:\n",
    "    print(\"O método de Newton-Raphson retornou um erro\")\n",
    "\n",
    "print(\"\\n\\nMétodo de Newton para Polinômios\")\n",
    "tnpi = time.perf_counter()\n",
    "(houveErro2, raiz2) = newton_poli(a,x0,epsilon, maxIter)\n",
    "tnpf = time.perf_counter()\n",
    "if not houveErro2:\n",
    "    print(\"Raiz encontrada: %s\"%raiz2)\n",
    "else:\n",
    "    print(\"O Método de Newton-Raphson para polinômios retornou um erro.\")\n",
    "    \n",
    "print(\"\\n\\nComparativo dos tempos de execução dos métodos:\")\n",
    "print(\"Método de Newton-Raphson: %s ms.\"%((tnf-tni)*1000))\n",
    "print(\"Método de Newton-Raphson para Polinômios: %s ms.\"%((tnpf-tnpi)*1000))"
   ]
  },
  {
   "cell_type": "markdown",
   "metadata": {},
   "source": [
    "Note que os tempos de execução podem variar, mas em geral o tempo do método de Newton para polinômios deve ser menor."
   ]
  },
  {
   "cell_type": "markdown",
   "metadata": {},
   "source": [
    "## Exercício\n",
    "Na célula abaixo, compare o tempo de execução entre os métodos de Newton e Newton para polinômios para achar uma das raízes de p(x) = -3*x^6 + 2*x^5-5*x^4+6*x^3+7*x^2-4*x+3, com aproximação inicial x0 = 1.1 e epsilon = 1.000000e-13."
   ]
  },
  {
   "cell_type": "code",
   "execution_count": null,
   "metadata": {
    "collapsed": true
   },
   "outputs": [],
   "source": [
    "## Escreva o seu código aqui"
   ]
  }
 ],
 "metadata": {
  "kernelspec": {
   "display_name": "Python 3",
   "language": "python",
   "name": "python3"
  },
  "language_info": {
   "codemirror_mode": {
    "name": "ipython",
    "version": 3
   },
   "file_extension": ".py",
   "mimetype": "text/x-python",
   "name": "python",
   "nbconvert_exporter": "python",
   "pygments_lexer": "ipython3",
   "version": "3.6.2"
  }
 },
 "nbformat": 4,
 "nbformat_minor": 2
}
