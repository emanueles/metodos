{
 "cells": [
  {
   "cell_type": "markdown",
   "metadata": {},
   "source": [
    "# Método da Eliminação de Gauss-Jordan\n",
    "## Objetivos\n",
    "Os objetivos desse notebook são dois:\n",
    "\n",
    "1. Implementar o método de Gauss-Jordan e testá-lo.\n",
    " \n",
    "3. Implementar o método de Gauss-Jordan modificado para calcular a inversa de uma matriz.\n",
    "\n",
    "## Implementação\n",
    "Nós iremos implementar os algoritmos parte por parte, de acordo com as estratégias mostradas em sala. As instruções estão nos comentários nas funções abaixo. Você só precisa editar onde estiver indicado. \n",
    "\n",
    "Para executar uma célula, selecione a célula e pressione ```Ctrl + Enter```. Após implementar as funções abaixo, você deve executar cada uma das células, preferencialmente na ordem em que elas aparecem.\n"
   ]
  },
  {
   "cell_type": "markdown",
   "metadata": {},
   "source": [
    "### Método de Gauss-Jordan\n",
    "\n",
    "Copie e cole o código de método de Gauss original e modifique-o conforme vimos em sala. Lembre-se de que precisamos zerar os elementos acima e abaixo da diagonal e ir até a última coluna da matriz A. "
   ]
  },
  {
   "cell_type": "code",
   "execution_count": null,
   "metadata": {
    "collapsed": true
   },
   "outputs": [],
   "source": [
    "def gauss_jordan(A, b):\n",
    "    '''\n",
    "    Executa o método de Gauss-Jordan para resolver o sistema linear Ax=b \n",
    "    transformando a matriz A na matriz identidade.\n",
    "    Parâmetros de entrada: A é uma matriz quadrada de ordem n e b é o vetor constante.\n",
    "    Saída: vetor solução x\n",
    "    '''\n",
    "    n = len(A)\n",
    "    # escreva o código aqui\n",
    "    \n",
    "    return b"
   ]
  },
  {
   "cell_type": "markdown",
   "metadata": {},
   "source": [
    "Agora precisamos testar se a função está implementada corretamente. Iremos usar o exemplo mostrado em sala.\n",
    "\n",
    "$\\left[\\begin{array}{rrr}\n",
    "3& 2 & 4\\\\\n",
    "1& 1 & 2\\\\\n",
    "4& 3 & -2\\\\\n",
    "\\end{array}\\right] \\left[\\begin{array}{c}\n",
    "x_1\\\\\n",
    "x_2\\\\\n",
    "x_3\\\\\n",
    "\\end{array}\\right] = \\left[\\begin{array}{r}\n",
    "1\\\\\n",
    "2\\\\\n",
    "3\\\\\n",
    "\\end{array}\\right] $"
   ]
  },
  {
   "cell_type": "code",
   "execution_count": 1,
   "metadata": {
    "collapsed": true
   },
   "outputs": [],
   "source": [
    "## Defina a matriz A e o vetor b.\n",
    "## Depois chame o método de Gauss-Jordan\n",
    "## E mostre o resultado\n",
    "\n",
    "# Escreva o seu código aqui.\n"
   ]
  },
  {
   "cell_type": "markdown",
   "metadata": {},
   "source": [
    "Se estiver tudo ok, ao executar a célula acima, você deve ver a resposta:\n",
    "```\n",
    "[-2.9999999999999996, 5.0, 8.326672684688674e-17]\n",
    "```\n",
    "\n",
    "Observe os erros de arredondamento! A solução deveria ser [-3.0, 5.0, 0.0].\n",
    "\n",
    "#### Exercício:\n",
    "Na célula abaixo, resolva o exercício mostrado em sala:\n",
    "\n",
    "$\\left[\\begin{array}{rrr}\n",
    "1& 4 & -2\\\\\n",
    "5& 7 & -5\\\\\n",
    "-3& 2 & -6\\\\\n",
    "\\end{array}\\right] \\left[\\begin{array}{c}\n",
    "x_1\\\\\n",
    "x_2\\\\\n",
    "x_3\\\\\n",
    "\\end{array}\\right] = \\left[\\begin{array}{r}\n",
    "8\\\\\n",
    "6\\\\\n",
    "6\\\\\n",
    "\\end{array}\\right] $\n",
    "\n",
    "**Não se esqueça de executar as células de código acima!**"
   ]
  },
  {
   "cell_type": "code",
   "execution_count": null,
   "metadata": {
    "collapsed": true
   },
   "outputs": [],
   "source": [
    "## Defina a matriz A e o vetor b.\n",
    "## Depois chame o método de Gauss-Jordan\n",
    "## E mostre o resultado\n",
    "\n",
    "# Escreva o seu código aqui"
   ]
  },
  {
   "cell_type": "markdown",
   "metadata": {},
   "source": [
    "### Calculando a matriz inversa\n",
    "\n",
    "Vimos que se executarmos as mesmas operações, utilizadas para transformar a matriz A em uma matriz Identidade, na matriz Identidade, obteremos a matriz inversa.\n",
    "\n",
    "Para isso, precisamos de uma função que cria uma matriz identidade de ordem n."
   ]
  },
  {
   "cell_type": "code",
   "execution_count": 1,
   "metadata": {
    "collapsed": true
   },
   "outputs": [],
   "source": [
    "def identidade(n):\n",
    "    '''Cria uma matriz identidade de ordem n.\n",
    "    Parâmetros de entrada:  n é a ordem da matriz.\n",
    "    Saída: matriz identidade de ordem n.\n",
    "    '''\n",
    "    # Escreva o seu código aqui"
   ]
  },
  {
   "cell_type": "markdown",
   "metadata": {},
   "source": [
    "**Não se esqueça de executar a célula de código acima!**\n",
    "\n",
    "Agora precisamos testar se a função está implementada corretamente."
   ]
  },
  {
   "cell_type": "code",
   "execution_count": 9,
   "metadata": {},
   "outputs": [
    {
     "name": "stdout",
     "output_type": "stream",
     "text": [
      "I2: \n",
      "1 0 \n",
      "0 1 \n",
      "\n",
      "I3: \n",
      "1 0 0 \n",
      "0 1 0 \n",
      "0 0 1 \n",
      "\n"
     ]
    }
   ],
   "source": [
    "def formata_matriz(M):\n",
    "    m = len(M) # número de linhas\n",
    "    n = len(M[0]) # número de colunas\n",
    "    s = \"\"\n",
    "    for i in range(m):\n",
    "        for j in range(n):\n",
    "           s += \"%s \" % M[i][j]\n",
    "        s += \"\\n\"\n",
    "    return s\n",
    "\n",
    "I2 = identidade(2)\n",
    "print(\"I2: \\n%s\" % formata_matriz(I2))\n",
    "I3 = identidade(3)\n",
    "print(\"I3: \\n%s\" % formata_matriz(I3))"
   ]
  },
  {
   "cell_type": "markdown",
   "metadata": {},
   "source": [
    "Se estiver tudo ok, ao executar a célula acima, você deve ver a resposta:\n",
    "```\n",
    "I2: \n",
    "1 0 \n",
    "0 1 \n",
    "\n",
    "I3: \n",
    "1 0 0 \n",
    "0 1 0 \n",
    "0 0 1 \n",
    "\n",
    "```"
   ]
  },
  {
   "cell_type": "markdown",
   "metadata": {},
   "source": [
    "### Modificação do método de Gauss para calcular a inversa\n",
    "\n",
    "Copie a função gauss_jordan acima, e depois modifique-a para calcular a inversa."
   ]
  },
  {
   "cell_type": "code",
   "execution_count": null,
   "metadata": {
    "collapsed": true
   },
   "outputs": [],
   "source": [
    "def gauss_inversa(A):\n",
    "    '''\n",
    "    Executa o método de Gauss-Jordan para calcular a matriz inversa de A.\n",
    "    Parâmetros de entrada: A é uma matriz quadrada de ordem n.\n",
    "    Saída: Inv é a matriz inversa de A.\n",
    "    '''\n",
    "    n = len(A)\n",
    "    Inv = identidade(n)\n",
    "    \n",
    "    # escreva o seu código aqui\n",
    "    \n",
    "    return Inv"
   ]
  },
  {
   "cell_type": "markdown",
   "metadata": {},
   "source": [
    "Vamos testar a função com o exemplo mostrado em sala:\n",
    "Calcule a inversa da matriz A abaixo:\n",
    "\n",
    "$A = \\left[\\begin{array}{rrr}\n",
    "2& 1 & 3\\\\\n",
    "0& -1 & 1\\\\\n",
    "1& 0 & 3\\\\\n",
    "\\end{array}\\right] $"
   ]
  },
  {
   "cell_type": "code",
   "execution_count": null,
   "metadata": {
    "collapsed": true
   },
   "outputs": [],
   "source": [
    "## Defina a matriz A e chame a função gauss_inversa\n",
    "## Use a função formata_matriz para mostrar a matriz de forma mais legível.\n",
    "\n",
    "# Escreva o seu código aqui"
   ]
  },
  {
   "cell_type": "markdown",
   "metadata": {},
   "source": [
    "Se tudo deu certo, você deve obter a seguinte resposta:\n",
    "\n",
    "```\n",
    "1.5 1.5 -2.0\n",
    "-0.5 -1.5 1.0 \n",
    "-0.5 -0.5 1.0 \n",
    "\n",
    "```\n",
    "\n",
    "## Exercício\n",
    "\n",
    "Use a sua implementação do Método de Gauss-Jordan para calcular a inversa de matrizes e calcule a inversa da matriz abaixo:\n",
    "\n",
    "$A = \\left[\\begin{array}{rrr}\n",
    "2& -1 & 3\\\\\n",
    "1& -2 & 1\\\\\n",
    "0& 3 & 2\\\\\n",
    "\\end{array}\\right] $\n"
   ]
  },
  {
   "cell_type": "code",
   "execution_count": null,
   "metadata": {
    "collapsed": true
   },
   "outputs": [],
   "source": [
    "## Defina a matriz A e chame a função gauss_inversa\n",
    "## Use a função formata_matriz para mostrar a matriz de forma mais legível.\n",
    "\n",
    "# Escreva o seu código aqui"
   ]
  }
 ],
 "metadata": {
  "kernelspec": {
   "display_name": "Python 3",
   "language": "python",
   "name": "python3"
  },
  "language_info": {
   "codemirror_mode": {
    "name": "ipython",
    "version": 3
   },
   "file_extension": ".py",
   "mimetype": "text/x-python",
   "name": "python",
   "nbconvert_exporter": "python",
   "pygments_lexer": "ipython3",
   "version": "3.5.4"
  }
 },
 "nbformat": 4,
 "nbformat_minor": 2
}
